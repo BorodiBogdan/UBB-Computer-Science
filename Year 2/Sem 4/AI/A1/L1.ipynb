{
 "cells": [
  {
   "cell_type": "code",
   "execution_count": 9,
   "id": "1d0cba7d-c7d3-4973-bfc5-47886ec85b61",
   "metadata": {},
   "outputs": [],
   "source": [
    "import random\n",
    "\n",
    "def spinner(probabilityDistribution):\n",
    "    totalSum = sum(probabilityDistribution)\n",
    "    probabilityDistribuion = [value / totalSum for value in probabilityDistribution]\n",
    "\n",
    "    indices = range(len(probabilityDistribution))\n",
    "    chosen_index = random.choices(indices, weights=probabilityDistribution, k = 1)[0]\n",
    "\n",
    "    return chosen_index"
   ]
  },
  {
   "cell_type": "code",
   "execution_count": 11,
   "id": "30bb0057-8251-473f-89b7-aeafcb5880f3",
   "metadata": {},
   "outputs": [
    {
     "name": "stdout",
     "output_type": "stream",
     "text": [
      "red\n"
     ]
    }
   ],
   "source": [
    "degrees = [45, 85, 70, 150]\n",
    "colors = [\"blue\", \"red\", \"yellow\", \"green\"]\n",
    "print(colors[spinner(degrees)]) "
   ]
  },
  {
   "cell_type": "code",
   "execution_count": 13,
   "id": "b5b71b44-0d93-4848-9f5f-404f8e5c4820",
   "metadata": {},
   "outputs": [
    {
     "name": "stdout",
     "output_type": "stream",
     "text": [
      "yellow\n"
     ]
    }
   ],
   "source": [
    "probabilities = [0.15, 0.25, 0.35, 0.25]\n",
    "colors = [\"blue\", \"red\", \"yellow\", \"green\"]\n",
    "print(colors[spinner(probabilities)])"
   ]
  },
  {
   "cell_type": "code",
   "execution_count": 15,
   "id": "7ae312e5-21fc-4706-90f5-03bfb8a3f66a",
   "metadata": {},
   "outputs": [
    {
     "name": "stdout",
     "output_type": "stream",
     "text": [
      "Theoretical probability: 0.282600\n",
      "Simulated probability: 0.285000\n"
     ]
    }
   ],
   "source": [
    "R = 30\n",
    "L = 100\n",
    "\n",
    "pipeArea = 3.14 * (R**2)\n",
    "boxArea = L * L\n",
    "outsideBoxArea = boxArea - pipeArea\n",
    "\n",
    "pipeProbability = pipeArea / boxArea\n",
    "outsideProbability = outsideBoxArea / boxArea\n",
    "\n",
    "numberOfTrials = 10000\n",
    "\n",
    "insideBalls = 0\n",
    "\n",
    "for _ in range(numberOfTrials):\n",
    "    x = random.uniform(0, L)\n",
    "    y = random.uniform(0, L)\n",
    "    \n",
    "    distance_squared = (x - L/2) ** 2 + (y - L/2) ** 2\n",
    "    if distance_squared <= R ** 2:\n",
    "        insideBalls += 1\n",
    "\n",
    "simulatedProbability = insideBalls / numberOfTrials\n",
    "\n",
    "# Output the results\n",
    "print(f\"Theoretical probability: {pipeProbability:.6f}\")\n",
    "print(f\"Simulated probability: {simulatedProbability:.6f}\")"
   ]
  },
  {
   "cell_type": "code",
   "execution_count": null,
   "id": "86dded03-8f27-4eaa-8a01-44db06ad1d22",
   "metadata": {},
   "outputs": [],
   "source": []
  }
 ],
 "metadata": {
  "kernelspec": {
   "display_name": "Bob",
   "language": "python",
   "name": "bob"
  },
  "language_info": {
   "codemirror_mode": {
    "name": "ipython",
    "version": 3
   },
   "file_extension": ".py",
   "mimetype": "text/x-python",
   "name": "python",
   "nbconvert_exporter": "python",
   "pygments_lexer": "ipython3",
   "version": "3.12.9"
  }
 },
 "nbformat": 4,
 "nbformat_minor": 5
}
